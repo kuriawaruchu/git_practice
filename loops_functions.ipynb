{
  "nbformat": 4,
  "nbformat_minor": 0,
  "metadata": {
    "colab": {
      "provenance": []
    },
    "kernelspec": {
      "name": "python3",
      "display_name": "Python 3"
    },
    "language_info": {
      "name": "python"
    }
  },
  "cells": [
    {
      "cell_type": "code",
      "execution_count": null,
      "metadata": {
        "id": "WUTNpTkCm_-P"
      },
      "outputs": [],
      "source": [
        "import random\n"
      ]
    },
    {
      "cell_type": "code",
      "source": [
        "names = []\n",
        "\n",
        "# Student_1.....Student_50\n",
        "for i in range(1,51):\n",
        "  names.append(\"Student_\" +str(i))\n",
        "\n",
        "print(names)"
      ],
      "metadata": {
        "colab": {
          "base_uri": "https://localhost:8080/"
        },
        "id": "DRGQngRAoeQm",
        "outputId": "c00bf3ed-de11-41c1-aa07-3182d2268193"
      },
      "execution_count": null,
      "outputs": [
        {
          "output_type": "stream",
          "name": "stdout",
          "text": [
            "['Student_1', 'Student_2', 'Student_3', 'Student_4', 'Student_5', 'Student_6', 'Student_7', 'Student_8', 'Student_9', 'Student_10', 'Student_11', 'Student_12', 'Student_13', 'Student_14', 'Student_15', 'Student_16', 'Student_17', 'Student_18', 'Student_19', 'Student_20', 'Student_21', 'Student_22', 'Student_23', 'Student_24', 'Student_25', 'Student_26', 'Student_27', 'Student_28', 'Student_29', 'Student_30', 'Student_31', 'Student_32', 'Student_33', 'Student_34', 'Student_35', 'Student_36', 'Student_37', 'Student_38', 'Student_39', 'Student_40', 'Student_41', 'Student_42', 'Student_43', 'Student_44', 'Student_45', 'Student_46', 'Student_47', 'Student_48', 'Student_49', 'Student_50']\n"
          ]
        }
      ]
    },
    {
      "cell_type": "code",
      "source": [
        "random.seed(3)\n",
        "\n",
        "birth_year = []\n",
        "\n",
        "for i in range(50):\n",
        "  birth_year.append(random.randint(1988,2002))\n",
        "\n",
        "print(birth_year)"
      ],
      "metadata": {
        "colab": {
          "base_uri": "https://localhost:8080/"
        },
        "id": "ojSDwqzPp8dz",
        "outputId": "566fa5f3-4062-4284-c20b-d7c3b8e29a45"
      },
      "execution_count": null,
      "outputs": [
        {
          "output_type": "stream",
          "name": "stdout",
          "text": [
            "[1991, 1997, 1996, 1990, 1993, 2002, 1997, 1995, 1998, 1997, 1989, 1997, 1988, 2002, 2001, 1995, 1992, 1996, 1991, 1991, 1999, 1995, 1996, 2001, 1996, 1995, 1994, 1998, 2001, 1990, 1991, 1998, 1990, 2001, 2002, 1996, 1994, 1999, 1988, 1998, 2000, 1989, 1990, 2000, 1997, 1988, 1992, 2000, 1988, 2001]\n"
          ]
        }
      ]
    },
    {
      "cell_type": "code",
      "source": [
        "b2 = []\n",
        "\n",
        "for i in range(50):\n",
        "  b2.append(random.randrange(1988,2002))\n",
        "print(b2)"
      ],
      "metadata": {
        "colab": {
          "base_uri": "https://localhost:8080/"
        },
        "id": "aD3osiHstMVp",
        "outputId": "f0ed2a31-061e-4c72-a198-e2dead484928"
      },
      "execution_count": null,
      "outputs": [
        {
          "output_type": "stream",
          "name": "stdout",
          "text": [
            "[1996, 1997, 1997, 1989, 1999, 1998, 1991, 1998, 2001, 1997, 1992, 1992, 1989, 1989, 1995, 2001, 1998, 1995, 1989, 1993, 2000, 1989, 1994, 1990, 1988, 1992, 1994, 2000, 1994, 2001, 1989, 1988, 1997, 1997, 2000, 1988, 1994, 1999, 1997, 1993, 1996, 1992, 1996, 1991, 1988, 1992, 1988, 1989, 1989, 1997]\n"
          ]
        }
      ]
    },
    {
      "cell_type": "code",
      "source": [
        "student_attitude = []\n",
        "\n",
        "num = 0\n",
        "\n",
        "while num < 50:\n",
        "  student_attitude.append(random.choice([\"Positive\", \"Neutral\", \"Negative\"]))\n",
        "  num += 1\n",
        "  # print(num)\n",
        "\n",
        "\n",
        "print(student_attitude)\n",
        "print(len(student_attitude))"
      ],
      "metadata": {
        "colab": {
          "base_uri": "https://localhost:8080/"
        },
        "id": "Gw9SWvUhuIyB",
        "outputId": "2018fb34-c69e-4a6a-9d68-3342d03c24a5"
      },
      "execution_count": null,
      "outputs": [
        {
          "output_type": "stream",
          "name": "stdout",
          "text": [
            "['Negative', 'Negative', 'Positive', 'Positive', 'Negative', 'Neutral', 'Neutral', 'Negative', 'Positive', 'Neutral', 'Positive', 'Positive', 'Neutral', 'Negative', 'Negative', 'Positive', 'Negative', 'Neutral', 'Neutral', 'Positive', 'Positive', 'Positive', 'Negative', 'Positive', 'Neutral', 'Negative', 'Positive', 'Neutral', 'Neutral', 'Negative', 'Positive', 'Negative', 'Neutral', 'Negative', 'Positive', 'Neutral', 'Neutral', 'Negative', 'Neutral', 'Neutral', 'Neutral', 'Negative', 'Neutral', 'Neutral', 'Neutral', 'Negative', 'Neutral', 'Positive', 'Neutral', 'Positive']\n",
            "50\n"
          ]
        }
      ]
    },
    {
      "cell_type": "code",
      "source": [],
      "metadata": {
        "id": "Xgl1WZMsxp6t"
      },
      "execution_count": null,
      "outputs": []
    },
    {
      "cell_type": "code",
      "source": [
        "student_score = []\n",
        "\n",
        "# from 0 - 100\n",
        "\n",
        "for i in range(50):\n",
        "  student_score.append(random.randint(0,100))\n",
        "\n",
        "print(student_score)"
      ],
      "metadata": {
        "colab": {
          "base_uri": "https://localhost:8080/"
        },
        "id": "xYwXkZ9Gvuv9",
        "outputId": "58fdd31e-bcfe-4935-a43e-5f8af7e900a1"
      },
      "execution_count": null,
      "outputs": [
        {
          "output_type": "stream",
          "name": "stdout",
          "text": [
            "[16, 32, 69, 61, 100, 7, 45, 28, 25, 15, 68, 15, 21, 30, 35, 16, 0, 62, 80, 73, 51, 6, 96, 34, 31, 34, 79, 67, 66, 54, 6, 60, 41, 99, 0, 7, 99, 16, 5, 15, 6, 8, 61, 4, 91, 11, 65, 64, 62, 40]\n"
          ]
        }
      ]
    },
    {
      "cell_type": "code",
      "source": [
        "for i in [\"i\", \"j\", \"k\"]:\n",
        "  print (i)"
      ],
      "metadata": {
        "id": "7pMEhZ8PyRsi",
        "colab": {
          "base_uri": "https://localhost:8080/"
        },
        "outputId": "99fa8de4-d546-45e3-e7fb-f9082f5222c5"
      },
      "execution_count": null,
      "outputs": [
        {
          "output_type": "stream",
          "name": "stdout",
          "text": [
            "i\n",
            "j\n",
            "k\n"
          ]
        }
      ]
    },
    {
      "cell_type": "code",
      "source": [],
      "metadata": {
        "id": "KiEnxZwRViRj"
      },
      "execution_count": null,
      "outputs": []
    }
  ]
}